{
 "cells": [
  {
   "cell_type": "code",
   "execution_count": 1,
   "id": "familiar-annual",
   "metadata": {},
   "outputs": [],
   "source": [
    "import os"
   ]
  },
  {
   "cell_type": "code",
   "execution_count": 2,
   "id": "monthly-southeast",
   "metadata": {},
   "outputs": [],
   "source": [
    "import pandas"
   ]
  },
  {
   "cell_type": "code",
   "execution_count": 3,
   "id": "twenty-neighbor",
   "metadata": {},
   "outputs": [],
   "source": [
    "from pyiron import Project"
   ]
  },
  {
   "cell_type": "code",
   "execution_count": 4,
   "id": "opponent-fancy",
   "metadata": {},
   "outputs": [],
   "source": [
    "pr = Project(\"pyiron\")"
   ]
  },
  {
   "cell_type": "code",
   "execution_count": 5,
   "id": "responsible-comedy",
   "metadata": {},
   "outputs": [],
   "source": [
    "pr.remove_jobs_silently(recursive=True)"
   ]
  },
  {
   "cell_type": "code",
   "execution_count": 6,
   "id": "structured-burning",
   "metadata": {},
   "outputs": [],
   "source": [
    "structure = pr.create_ase_bulk(\"Cu\")"
   ]
  },
  {
   "cell_type": "code",
   "execution_count": 7,
   "id": "small-malpractice",
   "metadata": {},
   "outputs": [],
   "source": [
    "job = pr.create_job(pr.job_type.Lammps, \"lmp_ace\")"
   ]
  },
  {
   "cell_type": "code",
   "execution_count": 8,
   "id": "closed-fraud",
   "metadata": {},
   "outputs": [],
   "source": [
    "job.structure = structure"
   ]
  },
  {
   "cell_type": "code",
   "execution_count": 9,
   "id": "vanilla-marshall",
   "metadata": {},
   "outputs": [],
   "source": [
    "job.potential = 'Cu-ace'"
   ]
  },
  {
   "cell_type": "code",
   "execution_count": 10,
   "id": "significant-fitting",
   "metadata": {},
   "outputs": [
    {
     "data": {
      "text/html": [
       "<div>\n",
       "<style scoped>\n",
       "    .dataframe tbody tr th:only-of-type {\n",
       "        vertical-align: middle;\n",
       "    }\n",
       "\n",
       "    .dataframe tbody tr th {\n",
       "        vertical-align: top;\n",
       "    }\n",
       "\n",
       "    .dataframe thead th {\n",
       "        text-align: right;\n",
       "    }\n",
       "</style>\n",
       "<table border=\"1\" class=\"dataframe\">\n",
       "  <thead>\n",
       "    <tr style=\"text-align: right;\">\n",
       "      <th></th>\n",
       "      <th>Config</th>\n",
       "      <th>Filename</th>\n",
       "      <th>Model</th>\n",
       "      <th>Name</th>\n",
       "      <th>Species</th>\n",
       "      <th>Citations</th>\n",
       "    </tr>\n",
       "  </thead>\n",
       "  <tbody>\n",
       "    <tr>\n",
       "      <th>0</th>\n",
       "      <td>[pair_style pace\\n, pair_coeff * * df3_cut75_large_body_order.ace Cu\\n]</td>\n",
       "      <td>[ace/df3_cut75_large_body_order.ace]</td>\n",
       "      <td>ACE</td>\n",
       "      <td>Cu-ace</td>\n",
       "      <td>[Cu]</td>\n",
       "      <td>{}</td>\n",
       "    </tr>\n",
       "  </tbody>\n",
       "</table>\n",
       "</div>"
      ],
      "text/plain": [
       "                                                                    Config  \\\n",
       "0  [pair_style pace\\n, pair_coeff * * df3_cut75_large_body_order.ace Cu\\n]   \n",
       "\n",
       "                               Filename Model    Name Species Citations  \n",
       "0  [ace/df3_cut75_large_body_order.ace]   ACE  Cu-ace    [Cu]        {}  "
      ]
     },
     "execution_count": 10,
     "metadata": {},
     "output_type": "execute_result"
    }
   ],
   "source": [
    "job.potential"
   ]
  },
  {
   "cell_type": "code",
   "execution_count": 11,
   "id": "cheap-morning",
   "metadata": {},
   "outputs": [
    {
     "name": "stdout",
     "output_type": "stream",
     "text": [
      "The job lmp_ace was saved and received the ID: 1\n"
     ]
    }
   ],
   "source": [
    "job.run()"
   ]
  },
  {
   "cell_type": "code",
   "execution_count": 12,
   "id": "romantic-coordination",
   "metadata": {},
   "outputs": [
    {
     "data": {
      "text/html": [
       "<div>\n",
       "<style scoped>\n",
       "    .dataframe tbody tr th:only-of-type {\n",
       "        vertical-align: middle;\n",
       "    }\n",
       "\n",
       "    .dataframe tbody tr th {\n",
       "        vertical-align: top;\n",
       "    }\n",
       "\n",
       "    .dataframe thead th {\n",
       "        text-align: right;\n",
       "    }\n",
       "</style>\n",
       "<table border=\"1\" class=\"dataframe\">\n",
       "  <thead>\n",
       "    <tr style=\"text-align: right;\">\n",
       "      <th></th>\n",
       "      <th>id</th>\n",
       "      <th>status</th>\n",
       "      <th>chemicalformula</th>\n",
       "      <th>job</th>\n",
       "      <th>subjob</th>\n",
       "      <th>projectpath</th>\n",
       "      <th>project</th>\n",
       "      <th>timestart</th>\n",
       "      <th>timestop</th>\n",
       "      <th>totalcputime</th>\n",
       "      <th>computer</th>\n",
       "      <th>hamilton</th>\n",
       "      <th>hamversion</th>\n",
       "      <th>parentid</th>\n",
       "      <th>masterid</th>\n",
       "    </tr>\n",
       "  </thead>\n",
       "  <tbody>\n",
       "    <tr>\n",
       "      <th>0</th>\n",
       "      <td>1</td>\n",
       "      <td>finished</td>\n",
       "      <td>Cu</td>\n",
       "      <td>lmp_ace</td>\n",
       "      <td>/lmp_ace</td>\n",
       "      <td>/home/jovyan/</td>\n",
       "      <td>pyiron/</td>\n",
       "      <td>2021-03-07 14:46:12.509553</td>\n",
       "      <td>2021-03-07 14:46:13.032967</td>\n",
       "      <td>0.0</td>\n",
       "      <td>pyiron@jupyter-jan-2djanssen-2dpotential-5ftesting-2dzql63ef2#1</td>\n",
       "      <td>Lammps</td>\n",
       "      <td>0.1</td>\n",
       "      <td>None</td>\n",
       "      <td>None</td>\n",
       "    </tr>\n",
       "  </tbody>\n",
       "</table>\n",
       "</div>"
      ],
      "text/plain": [
       "   id    status chemicalformula      job    subjob    projectpath  project  \\\n",
       "0   1  finished              Cu  lmp_ace  /lmp_ace  /home/jovyan/  pyiron/   \n",
       "\n",
       "                   timestart                   timestop  totalcputime  \\\n",
       "0 2021-03-07 14:46:12.509553 2021-03-07 14:46:13.032967           0.0   \n",
       "\n",
       "                                                          computer hamilton  \\\n",
       "0  pyiron@jupyter-jan-2djanssen-2dpotential-5ftesting-2dzql63ef2#1   Lammps   \n",
       "\n",
       "  hamversion parentid masterid  \n",
       "0        0.1     None     None  "
      ]
     },
     "execution_count": 12,
     "metadata": {},
     "output_type": "execute_result"
    }
   ],
   "source": [
    "pr.job_table()"
   ]
  },
  {
   "cell_type": "code",
   "execution_count": null,
   "id": "equipped-bowling",
   "metadata": {},
   "outputs": [],
   "source": []
  }
 ],
 "metadata": {
  "kernelspec": {
   "display_name": "Python 3",
   "language": "python",
   "name": "python3"
  },
  "language_info": {
   "codemirror_mode": {
    "name": "ipython",
    "version": 3
   },
   "file_extension": ".py",
   "mimetype": "text/x-python",
   "name": "python",
   "nbconvert_exporter": "python",
   "pygments_lexer": "ipython3",
   "version": "3.7.9"
  }
 },
 "nbformat": 4,
 "nbformat_minor": 5
}
