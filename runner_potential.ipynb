{
 "cells": [
  {
   "cell_type": "code",
   "execution_count": 1,
   "id": "living-azerbaijan",
   "metadata": {},
   "outputs": [],
   "source": [
    "import os"
   ]
  },
  {
   "cell_type": "code",
   "execution_count": 2,
   "id": "victorian-welcome",
   "metadata": {},
   "outputs": [],
   "source": [
    "import pandas"
   ]
  },
  {
   "cell_type": "code",
   "execution_count": 3,
   "id": "vertical-principal",
   "metadata": {},
   "outputs": [],
   "source": [
    "from pyiron import Project"
   ]
  },
  {
   "cell_type": "code",
   "execution_count": 4,
   "id": "italian-friendship",
   "metadata": {},
   "outputs": [],
   "source": [
    "pr = Project(\"pyiron\")"
   ]
  },
  {
   "cell_type": "code",
   "execution_count": 5,
   "id": "liquid-chassis",
   "metadata": {},
   "outputs": [],
   "source": [
    "pr.remove_jobs_silently(recursive=True)"
   ]
  },
  {
   "cell_type": "code",
   "execution_count": 6,
   "id": "national-issue",
   "metadata": {},
   "outputs": [],
   "source": [
    "structure = pr.create_ase_bulk(\"Cu\")"
   ]
  },
  {
   "cell_type": "code",
   "execution_count": 7,
   "id": "remarkable-carry",
   "metadata": {},
   "outputs": [],
   "source": [
    "job = pr.create_job(pr.job_type.Lammps, \"lmp_runner\")"
   ]
  },
  {
   "cell_type": "code",
   "execution_count": 8,
   "id": "moving-rabbit",
   "metadata": {},
   "outputs": [],
   "source": [
    "job.structure = structure"
   ]
  },
  {
   "cell_type": "code",
   "execution_count": 9,
   "id": "still-personality",
   "metadata": {},
   "outputs": [],
   "source": [
    "job.potential = 'Cu-runner'"
   ]
  },
  {
   "cell_type": "code",
   "execution_count": 10,
   "id": "determined-introduction",
   "metadata": {},
   "outputs": [
    {
     "data": {
      "text/html": [
       "<div>\n",
       "<style scoped>\n",
       "    .dataframe tbody tr th:only-of-type {\n",
       "        vertical-align: middle;\n",
       "    }\n",
       "\n",
       "    .dataframe tbody tr th {\n",
       "        vertical-align: top;\n",
       "    }\n",
       "\n",
       "    .dataframe thead th {\n",
       "        text-align: right;\n",
       "    }\n",
       "</style>\n",
       "<table border=\"1\" class=\"dataframe\">\n",
       "  <thead>\n",
       "    <tr style=\"text-align: right;\">\n",
       "      <th></th>\n",
       "      <th>Config</th>\n",
       "      <th>Filename</th>\n",
       "      <th>Model</th>\n",
       "      <th>Name</th>\n",
       "      <th>Species</th>\n",
       "      <th>Citations</th>\n",
       "    </tr>\n",
       "  </thead>\n",
       "  <tbody>\n",
       "    <tr>\n",
       "      <th>0</th>\n",
       "      <td>[pair_style nnp dir \".\" showew no showewsum 0 resetew no maxew 100 cflength 1.8897261328 cfenergy 0.0367493254 emap \"1:Cu\"\\n, pair_coeff * * 12\\n]</td>\n",
       "      <td>[runner/input.nn, runner/weights.029.data, runner/scaling.data]</td>\n",
       "      <td>RuNNer</td>\n",
       "      <td>Cu-runner</td>\n",
       "      <td>[Cu]</td>\n",
       "      <td>{}</td>\n",
       "    </tr>\n",
       "  </tbody>\n",
       "</table>\n",
       "</div>"
      ],
      "text/plain": [
       "                                                                                                                                               Config  \\\n",
       "0  [pair_style nnp dir \".\" showew no showewsum 0 resetew no maxew 100 cflength 1.8897261328 cfenergy 0.0367493254 emap \"1:Cu\"\\n, pair_coeff * * 12\\n]   \n",
       "\n",
       "                                                          Filename   Model  \\\n",
       "0  [runner/input.nn, runner/weights.029.data, runner/scaling.data]  RuNNer   \n",
       "\n",
       "        Name Species Citations  \n",
       "0  Cu-runner    [Cu]        {}  "
      ]
     },
     "execution_count": 10,
     "metadata": {},
     "output_type": "execute_result"
    }
   ],
   "source": [
    "job.potential"
   ]
  },
  {
   "cell_type": "code",
   "execution_count": 11,
   "id": "decent-costa",
   "metadata": {},
   "outputs": [
    {
     "name": "stdout",
     "output_type": "stream",
     "text": [
      "The job lmp_runner was saved and received the ID: 1\n"
     ]
    }
   ],
   "source": [
    "job.run()"
   ]
  },
  {
   "cell_type": "code",
   "execution_count": 12,
   "id": "worse-thanksgiving",
   "metadata": {},
   "outputs": [
    {
     "data": {
      "text/html": [
       "<div>\n",
       "<style scoped>\n",
       "    .dataframe tbody tr th:only-of-type {\n",
       "        vertical-align: middle;\n",
       "    }\n",
       "\n",
       "    .dataframe tbody tr th {\n",
       "        vertical-align: top;\n",
       "    }\n",
       "\n",
       "    .dataframe thead th {\n",
       "        text-align: right;\n",
       "    }\n",
       "</style>\n",
       "<table border=\"1\" class=\"dataframe\">\n",
       "  <thead>\n",
       "    <tr style=\"text-align: right;\">\n",
       "      <th></th>\n",
       "      <th>id</th>\n",
       "      <th>status</th>\n",
       "      <th>chemicalformula</th>\n",
       "      <th>job</th>\n",
       "      <th>subjob</th>\n",
       "      <th>projectpath</th>\n",
       "      <th>project</th>\n",
       "      <th>timestart</th>\n",
       "      <th>timestop</th>\n",
       "      <th>totalcputime</th>\n",
       "      <th>computer</th>\n",
       "      <th>hamilton</th>\n",
       "      <th>hamversion</th>\n",
       "      <th>parentid</th>\n",
       "      <th>masterid</th>\n",
       "    </tr>\n",
       "  </thead>\n",
       "  <tbody>\n",
       "    <tr>\n",
       "      <th>0</th>\n",
       "      <td>1</td>\n",
       "      <td>finished</td>\n",
       "      <td>Cu</td>\n",
       "      <td>lmp_runner</td>\n",
       "      <td>/lmp_runner</td>\n",
       "      <td>/home/jovyan/</td>\n",
       "      <td>pyiron/</td>\n",
       "      <td>2021-03-07 14:46:51.920669</td>\n",
       "      <td>2021-03-07 14:46:52.477082</td>\n",
       "      <td>0.0</td>\n",
       "      <td>pyiron@jupyter-jan-2djanssen-2dpotential-5ftesting-2dzql63ef2#1</td>\n",
       "      <td>Lammps</td>\n",
       "      <td>0.1</td>\n",
       "      <td>None</td>\n",
       "      <td>None</td>\n",
       "    </tr>\n",
       "  </tbody>\n",
       "</table>\n",
       "</div>"
      ],
      "text/plain": [
       "   id    status chemicalformula         job       subjob    projectpath  \\\n",
       "0   1  finished              Cu  lmp_runner  /lmp_runner  /home/jovyan/   \n",
       "\n",
       "   project                  timestart                   timestop  \\\n",
       "0  pyiron/ 2021-03-07 14:46:51.920669 2021-03-07 14:46:52.477082   \n",
       "\n",
       "   totalcputime  \\\n",
       "0           0.0   \n",
       "\n",
       "                                                          computer hamilton  \\\n",
       "0  pyiron@jupyter-jan-2djanssen-2dpotential-5ftesting-2dzql63ef2#1   Lammps   \n",
       "\n",
       "  hamversion parentid masterid  \n",
       "0        0.1     None     None  "
      ]
     },
     "execution_count": 12,
     "metadata": {},
     "output_type": "execute_result"
    }
   ],
   "source": [
    "pr.job_table()"
   ]
  },
  {
   "cell_type": "code",
   "execution_count": null,
   "id": "growing-value",
   "metadata": {},
   "outputs": [],
   "source": []
  }
 ],
 "metadata": {
  "kernelspec": {
   "display_name": "Python 3",
   "language": "python",
   "name": "python3"
  },
  "language_info": {
   "codemirror_mode": {
    "name": "ipython",
    "version": 3
   },
   "file_extension": ".py",
   "mimetype": "text/x-python",
   "name": "python",
   "nbconvert_exporter": "python",
   "pygments_lexer": "ipython3",
   "version": "3.7.9"
  }
 },
 "nbformat": 4,
 "nbformat_minor": 5
}
